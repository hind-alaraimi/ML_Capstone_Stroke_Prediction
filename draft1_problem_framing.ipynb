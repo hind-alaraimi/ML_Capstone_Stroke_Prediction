{
 "cells": [
  {
   "cell_type": "markdown",
   "id": "92c41e72",
   "metadata": {},
   "source": [
    "### Project Aim\n",
    "\n",
    "##### Find how machine learning can be applied to predict strokes using patient data"
   ]
  },
  {
   "cell_type": "markdown",
   "id": "7c5f2ec7",
   "metadata": {},
   "source": [
    "### Dataset Attributes :\n",
    "* id : unique identifier\n",
    "\n",
    "* gender : \"Male\", \"Female\" or \"Other\"\n",
    "\n",
    "* age : age of the patient\n",
    "\n",
    "* hypertension: 0 if the patient doesn't have hypertension, 1 if the patient has \n",
    "hypertension\n",
    "\n",
    "* heart_disease : 0 if the patient doesn't have any heart diseases, 1 if the patient has a heart disease\n",
    "\n",
    "* ever_married : \"No\" or \"Yes\"\n",
    "\n",
    "* work_type : \"children\", \"Govt_jov\", \"Never_worked\", \"Private\" or \"Self-employed\"\n",
    "\n",
    "* Residence_type : \"Rural\" or \"Urban\"\n",
    "\n",
    "* avg_glucose_level : average glucose level in blood\n",
    "\n",
    "* bmi : body mass index\n",
    "\n",
    "* smoking_status : \"formerly smoked\", \"never smoked\", \"smokes\" or \"Unknown\"*\n",
    "\n",
    "* stroke : 1 if the patient had a stroke or 0 if not"
   ]
  },
  {
   "cell_type": "markdown",
   "id": "7130a3ca",
   "metadata": {},
   "source": []
  },
  {
   "cell_type": "markdown",
   "id": "b0a22f90",
   "metadata": {},
   "source": []
  },
  {
   "cell_type": "markdown",
   "id": "17a620a8",
   "metadata": {},
   "source": []
  },
  {
   "cell_type": "code",
   "execution_count": null,
   "id": "cb17b44b",
   "metadata": {},
   "outputs": [],
   "source": []
  }
 ],
 "metadata": {
  "language_info": {
   "name": "python"
  }
 },
 "nbformat": 4,
 "nbformat_minor": 5
}
