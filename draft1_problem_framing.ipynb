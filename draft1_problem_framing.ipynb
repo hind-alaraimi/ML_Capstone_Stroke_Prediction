{
 "cells": [
  {
   "cell_type": "markdown",
   "id": "92c41e72",
   "metadata": {},
   "source": [
    "### Project Aim\n",
    "\n",
    "##### Find how machine learning can be applied to predict strokes using patient data"
   ]
  },
  {
   "cell_type": "markdown",
   "id": "b0a22f90",
   "metadata": {},
   "source": []
  },
  {
   "cell_type": "markdown",
   "id": "17a620a8",
   "metadata": {},
   "source": []
  },
  {
   "cell_type": "code",
   "execution_count": null,
   "id": "cb17b44b",
   "metadata": {},
   "outputs": [],
   "source": []
  }
 ],
 "metadata": {
  "language_info": {
   "name": "python"
  }
 },
 "nbformat": 4,
 "nbformat_minor": 5
}
