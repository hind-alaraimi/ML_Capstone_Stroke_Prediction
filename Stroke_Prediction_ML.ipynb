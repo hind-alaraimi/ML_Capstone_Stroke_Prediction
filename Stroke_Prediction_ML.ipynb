{
 "cells": [
  {
   "cell_type": "markdown",
   "id": "a3769de2",
   "metadata": {},
   "source": [
    "Final Work Here"
   ]
  }
 ],
 "metadata": {
  "language_info": {
   "name": "python"
  }
 },
 "nbformat": 4,
 "nbformat_minor": 5
}
